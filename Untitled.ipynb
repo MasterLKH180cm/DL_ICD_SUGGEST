{
 "cells": [
  {
   "cell_type": "code",
   "execution_count": 4,
   "id": "d521dfcf-2dc2-4b0a-bcc6-aa887d90c864",
   "metadata": {},
   "outputs": [],
   "source": [
    "import torch.nn as nn\n",
    "import torch\n",
    "import numpy as np"
   ]
  },
  {
   "cell_type": "code",
   "execution_count": 2,
   "id": "44eec24c-803e-41a9-ab08-0103451f590e",
   "metadata": {},
   "outputs": [
    {
     "data": {
      "text/plain": [
       "tensor([[29422, 46498, 46498, 47609],\n",
       "        [    1,  8097, 44563, 65622],\n",
       "        [    1, 61197, 21767,     1],\n",
       "        [    1,  8981,     1,     1],\n",
       "        [    1, 67296,     1,     1]])"
      ]
     },
     "execution_count": 2,
     "metadata": {},
     "output_type": "execute_result"
    }
   ],
   "source": [
    "diag = torch.tensor([[29422, 46498, 46498, 47609],\n",
    "        [    1,  8097, 44563, 65622],\n",
    "        [    1, 61197, 21767,     1],\n",
    "        [    1,  8981,     1,     1],\n",
    "        [    1, 67296,     1,     1]])\n",
    "diag"
   ]
  },
  {
   "cell_type": "code",
   "execution_count": 6,
   "id": "856aa507-1d35-404a-8dd8-1eaae44e09af",
   "metadata": {},
   "outputs": [
    {
     "data": {
      "text/plain": [
       "tensor([0, 1, 3])"
      ]
     },
     "execution_count": 6,
     "metadata": {},
     "output_type": "execute_result"
    }
   ],
   "source": [
    "a=torch.tensor([29422, 46498, 0, 47609])\n",
    "(a > 10).nonzero().squeeze()"
   ]
  },
  {
   "cell_type": "code",
   "execution_count": 18,
   "id": "0a154350-6443-4574-a6ef-09b02a3b7a4e",
   "metadata": {},
   "outputs": [
    {
     "data": {
      "text/plain": [
       "[array([1, 1, 1, 1, 1, 1, 1, 1, 1, 1]),\n",
       " array([1, 1, 1, 1, 1, 1, 1, 1, 1, 1]),\n",
       " array([1, 1, 1, 1, 1, 1, 1, 1, 1, 1]),\n",
       " array([    1, 67296,     1,     1,     1,     1,     1,     1,     1,\n",
       "            1])]"
      ]
     },
     "execution_count": 18,
     "metadata": {},
     "output_type": "execute_result"
    }
   ],
   "source": [
    "decoded_sentence = [np.array([1, 1, 1, 1, 1, 1, 1, 1, 1, 1]), \n",
    " np.array([1, 1, 1, 1, 1, 1, 1, 1, 1, 1]), \n",
    " np.array([1, 1, 1, 1, 1, 1, 1, 1, 1, 1]), \n",
    " np.array([    1, 67296, 1, 1, 1, 1, 1, 1, 1,1])] \n",
    "decoded_sentence"
   ]
  },
  {
   "cell_type": "code",
   "execution_count": 19,
   "id": "8c2607c2-a130-430f-a931-a0deb8a9def1",
   "metadata": {},
   "outputs": [],
   "source": [
    "diag = diag.T.tolist()"
   ]
  },
  {
   "cell_type": "code",
   "execution_count": 35,
   "id": "f8daa37c-923c-47ab-93bf-b10e9367877e",
   "metadata": {},
   "outputs": [
    {
     "name": "stdout",
     "output_type": "stream",
     "text": [
      "set() {29422} 0.0\n",
      "set() {67296, 8097, 46498, 61197, 8981} 0.0\n",
      "set() {46498, 44563, 21767} 0.0\n",
      "{67296} {47609, 65622} 0.0\n"
     ]
    }
   ],
   "source": [
    "for a, b in zip(decoded_sentence, diag):\n",
    "    a , b = set(a), set(b)\n",
    "    a.discard(1)\n",
    "    b.discard(1)\n",
    "    print(a, b, len(a.intersection(b))/len(b))"
   ]
  },
  {
   "cell_type": "code",
   "execution_count": 51,
   "id": "232111f1-8579-4ada-aa9d-a66e7133cc1d",
   "metadata": {},
   "outputs": [
    {
     "data": {
      "text/plain": [
       "{2, 3}"
      ]
     },
     "execution_count": 51,
     "metadata": {},
     "output_type": "execute_result"
    }
   ],
   "source": [
    "set(np.ndarray((2,), buffer=np.array([1,2,3]),\n",
    "           offset=np.int_().itemsize,\n",
    "           dtype=int).tolist())"
   ]
  },
  {
   "cell_type": "code",
   "execution_count": 4,
   "id": "3468981d-ab05-45d9-bff5-3b38d96a5385",
   "metadata": {},
   "outputs": [
    {
     "data": {
      "text/plain": [
       "torch.Size([10, 32, 512])"
      ]
     },
     "execution_count": 4,
     "metadata": {},
     "output_type": "execute_result"
    }
   ],
   "source": [
    "encoder_layer = nn.TransformerEncoderLayer(d_model=512, nhead=8)\n",
    "src = torch.rand(10, 32, 512)\n",
    "out = encoder_layer(src)\n",
    "out.shape"
   ]
  }
 ],
 "metadata": {
  "kernelspec": {
   "display_name": "Python 3 (ipykernel)",
   "language": "python",
   "name": "python3"
  },
  "language_info": {
   "codemirror_mode": {
    "name": "ipython",
    "version": 3
   },
   "file_extension": ".py",
   "mimetype": "text/x-python",
   "name": "python",
   "nbconvert_exporter": "python",
   "pygments_lexer": "ipython3",
   "version": "3.9.2"
  }
 },
 "nbformat": 4,
 "nbformat_minor": 5
}
